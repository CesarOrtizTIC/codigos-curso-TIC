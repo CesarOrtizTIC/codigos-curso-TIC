{
  "nbformat": 4,
  "nbformat_minor": 0,
  "metadata": {
    "colab": {
      "name": "Juego de la rana.ipynb",
      "provenance": [],
      "include_colab_link": true
    },
    "kernelspec": {
      "name": "python3",
      "display_name": "Python 3"
    },
    "language_info": {
      "name": "python"
    }
  },
  "cells": [
    {
      "cell_type": "markdown",
      "metadata": {
        "id": "view-in-github",
        "colab_type": "text"
      },
      "source": [
        "<a href=\"https://colab.research.google.com/github/CesarOrtizTIC/codigos-curso-TIC/blob/main/Juego_de_la_rana.ipynb\" target=\"_parent\"><img src=\"https://colab.research.google.com/assets/colab-badge.svg\" alt=\"Open In Colab\"/></a>"
      ]
    },
    {
      "cell_type": "markdown",
      "source": [
        "## esta es la primera practica donde aprenderemos a usar print"
      ],
      "metadata": {
        "id": "_dyp-1iQr7uj"
      }
    },
    {
      "cell_type": "code",
      "execution_count": 50,
      "metadata": {
        "colab": {
          "base_uri": "https://localhost:8080/"
        },
        "id": "WSAoGk_jrAm-",
        "outputId": "2a317d3d-c6fc-4f9b-e6a6-60cd829f4506"
      },
      "outputs": [
        {
          "output_type": "stream",
          "name": "stdout",
          "text": [
            "Hola, este es el juego de la rana\n",
            "digite su nombre:\n",
            "cesar\n",
            "digite su apellido:\n",
            "ortiz\n",
            "cesar ortiz\n",
            "digite su edad:\n",
            "38\n",
            "Usted puede votar\n"
          ]
        }
      ],
      "source": [
        "import time\n",
        "print('Hola, este es el juego de la rana')\n",
        "time.sleep(5)# adiciona 1 segundo delay\n",
        "print('digite su nombre:')\n",
        "nombre=input()\n",
        "print('digite su apellido:')\n",
        "apellido=input()\n",
        "print(nombre,apellido)\n",
        "print('digite su edad:')\n",
        "edad= int(input())\n",
        "if edad>=18:\n",
        "    print('Usted puede votar')\n",
        "else:\n",
        "    print('Usted aún no tiene edad para votar')"
      ]
    },
    {
      "cell_type": "markdown",
      "source": [
        "el juego de la rana trata de ayudar a la ranita a atravesar un lago de conocimiento.....blablavlaefasdfadlfa"
      ],
      "metadata": {
        "id": "nttOw9NL7SG9"
      }
    }
  ]
}